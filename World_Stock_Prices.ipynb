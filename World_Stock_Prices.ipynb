{
  "nbformat": 4,
  "nbformat_minor": 0,
  "metadata": {
    "colab": {
      "provenance": []
    },
    "kernelspec": {
      "name": "python3",
      "display_name": "Python 3"
    },
    "language_info": {
      "name": "python"
    }
  },
  "cells": [
    {
      "cell_type": "code",
      "execution_count": null,
      "metadata": {
        "id": "zuXA2Z_gRHJz"
      },
      "outputs": [],
      "source": [
        "import pandas as pd\n",
        "import numpy as np\n",
        "import matplotlib.pyplot as plt\n",
        "import seaborn as sns"
      ]
    },
    {
      "cell_type": "code",
      "source": [
        "data = pd.read_csv('/content/World-Stock-Prices-Dataset.csv')"
      ],
      "metadata": {
        "id": "Yma6u3n-R6Og"
      },
      "execution_count": null,
      "outputs": []
    },
    {
      "cell_type": "code",
      "source": [
        "data.head()"
      ],
      "metadata": {
        "colab": {
          "base_uri": "https://localhost:8080/",
          "height": 206
        },
        "id": "WwDLvVVESF0n",
        "outputId": "073e8e02-063e-4bc0-e841-ccfc40b70ec2"
      },
      "execution_count": null,
      "outputs": [
        {
          "output_type": "execute_result",
          "data": {
            "text/plain": [
              "                        Date        Open        High         Low       Close  \\\n",
              "0  2023-09-20 00:00:00-04:00    4.840000    4.910000    4.630000    4.670000   \n",
              "1  2023-09-20 00:00:00-04:00  397.049988  397.989990  386.119995  386.299988   \n",
              "2  2023-09-20 00:00:00-04:00  564.349976  569.219971  562.659973  563.830017   \n",
              "3  2023-09-20 00:00:00-04:00  138.550003  139.369995  135.199997  135.289993   \n",
              "4  2023-09-20 00:00:00-04:00  179.259995  179.699997  175.399994  175.490005   \n",
              "\n",
              "       Volume  Dividends  Stock Splits Brand_Name Ticker   Industry_Tag  \\\n",
              "0   7441900.0        0.0           0.0    peloton   PTON        fitness   \n",
              "1   3866600.0        0.0           0.0    netflix   NFLX  entertainment   \n",
              "2   1311500.0        0.0           0.0     costco   COST         retail   \n",
              "3  46263700.0        0.0           0.0     amazon   AMZN     e-commerce   \n",
              "4  58436200.0        0.0           0.0      apple   AAPL     technology   \n",
              "\n",
              "  Country  \n",
              "0     usa  \n",
              "1     usa  \n",
              "2     usa  \n",
              "3     usa  \n",
              "4     usa  "
            ],
            "text/html": [
              "\n",
              "  <div id=\"df-3d0a89f8-c7db-4252-8a9e-3743de08b72b\" class=\"colab-df-container\">\n",
              "    <div>\n",
              "<style scoped>\n",
              "    .dataframe tbody tr th:only-of-type {\n",
              "        vertical-align: middle;\n",
              "    }\n",
              "\n",
              "    .dataframe tbody tr th {\n",
              "        vertical-align: top;\n",
              "    }\n",
              "\n",
              "    .dataframe thead th {\n",
              "        text-align: right;\n",
              "    }\n",
              "</style>\n",
              "<table border=\"1\" class=\"dataframe\">\n",
              "  <thead>\n",
              "    <tr style=\"text-align: right;\">\n",
              "      <th></th>\n",
              "      <th>Date</th>\n",
              "      <th>Open</th>\n",
              "      <th>High</th>\n",
              "      <th>Low</th>\n",
              "      <th>Close</th>\n",
              "      <th>Volume</th>\n",
              "      <th>Dividends</th>\n",
              "      <th>Stock Splits</th>\n",
              "      <th>Brand_Name</th>\n",
              "      <th>Ticker</th>\n",
              "      <th>Industry_Tag</th>\n",
              "      <th>Country</th>\n",
              "    </tr>\n",
              "  </thead>\n",
              "  <tbody>\n",
              "    <tr>\n",
              "      <th>0</th>\n",
              "      <td>2023-09-20 00:00:00-04:00</td>\n",
              "      <td>4.840000</td>\n",
              "      <td>4.910000</td>\n",
              "      <td>4.630000</td>\n",
              "      <td>4.670000</td>\n",
              "      <td>7441900.0</td>\n",
              "      <td>0.0</td>\n",
              "      <td>0.0</td>\n",
              "      <td>peloton</td>\n",
              "      <td>PTON</td>\n",
              "      <td>fitness</td>\n",
              "      <td>usa</td>\n",
              "    </tr>\n",
              "    <tr>\n",
              "      <th>1</th>\n",
              "      <td>2023-09-20 00:00:00-04:00</td>\n",
              "      <td>397.049988</td>\n",
              "      <td>397.989990</td>\n",
              "      <td>386.119995</td>\n",
              "      <td>386.299988</td>\n",
              "      <td>3866600.0</td>\n",
              "      <td>0.0</td>\n",
              "      <td>0.0</td>\n",
              "      <td>netflix</td>\n",
              "      <td>NFLX</td>\n",
              "      <td>entertainment</td>\n",
              "      <td>usa</td>\n",
              "    </tr>\n",
              "    <tr>\n",
              "      <th>2</th>\n",
              "      <td>2023-09-20 00:00:00-04:00</td>\n",
              "      <td>564.349976</td>\n",
              "      <td>569.219971</td>\n",
              "      <td>562.659973</td>\n",
              "      <td>563.830017</td>\n",
              "      <td>1311500.0</td>\n",
              "      <td>0.0</td>\n",
              "      <td>0.0</td>\n",
              "      <td>costco</td>\n",
              "      <td>COST</td>\n",
              "      <td>retail</td>\n",
              "      <td>usa</td>\n",
              "    </tr>\n",
              "    <tr>\n",
              "      <th>3</th>\n",
              "      <td>2023-09-20 00:00:00-04:00</td>\n",
              "      <td>138.550003</td>\n",
              "      <td>139.369995</td>\n",
              "      <td>135.199997</td>\n",
              "      <td>135.289993</td>\n",
              "      <td>46263700.0</td>\n",
              "      <td>0.0</td>\n",
              "      <td>0.0</td>\n",
              "      <td>amazon</td>\n",
              "      <td>AMZN</td>\n",
              "      <td>e-commerce</td>\n",
              "      <td>usa</td>\n",
              "    </tr>\n",
              "    <tr>\n",
              "      <th>4</th>\n",
              "      <td>2023-09-20 00:00:00-04:00</td>\n",
              "      <td>179.259995</td>\n",
              "      <td>179.699997</td>\n",
              "      <td>175.399994</td>\n",
              "      <td>175.490005</td>\n",
              "      <td>58436200.0</td>\n",
              "      <td>0.0</td>\n",
              "      <td>0.0</td>\n",
              "      <td>apple</td>\n",
              "      <td>AAPL</td>\n",
              "      <td>technology</td>\n",
              "      <td>usa</td>\n",
              "    </tr>\n",
              "  </tbody>\n",
              "</table>\n",
              "</div>\n",
              "    <div class=\"colab-df-buttons\">\n",
              "\n",
              "  <div class=\"colab-df-container\">\n",
              "    <button class=\"colab-df-convert\" onclick=\"convertToInteractive('df-3d0a89f8-c7db-4252-8a9e-3743de08b72b')\"\n",
              "            title=\"Convert this dataframe to an interactive table.\"\n",
              "            style=\"display:none;\">\n",
              "\n",
              "  <svg xmlns=\"http://www.w3.org/2000/svg\" height=\"24px\" viewBox=\"0 -960 960 960\">\n",
              "    <path d=\"M120-120v-720h720v720H120Zm60-500h600v-160H180v160Zm220 220h160v-160H400v160Zm0 220h160v-160H400v160ZM180-400h160v-160H180v160Zm440 0h160v-160H620v160ZM180-180h160v-160H180v160Zm440 0h160v-160H620v160Z\"/>\n",
              "  </svg>\n",
              "    </button>\n",
              "\n",
              "  <style>\n",
              "    .colab-df-container {\n",
              "      display:flex;\n",
              "      gap: 12px;\n",
              "    }\n",
              "\n",
              "    .colab-df-convert {\n",
              "      background-color: #E8F0FE;\n",
              "      border: none;\n",
              "      border-radius: 50%;\n",
              "      cursor: pointer;\n",
              "      display: none;\n",
              "      fill: #1967D2;\n",
              "      height: 32px;\n",
              "      padding: 0 0 0 0;\n",
              "      width: 32px;\n",
              "    }\n",
              "\n",
              "    .colab-df-convert:hover {\n",
              "      background-color: #E2EBFA;\n",
              "      box-shadow: 0px 1px 2px rgba(60, 64, 67, 0.3), 0px 1px 3px 1px rgba(60, 64, 67, 0.15);\n",
              "      fill: #174EA6;\n",
              "    }\n",
              "\n",
              "    .colab-df-buttons div {\n",
              "      margin-bottom: 4px;\n",
              "    }\n",
              "\n",
              "    [theme=dark] .colab-df-convert {\n",
              "      background-color: #3B4455;\n",
              "      fill: #D2E3FC;\n",
              "    }\n",
              "\n",
              "    [theme=dark] .colab-df-convert:hover {\n",
              "      background-color: #434B5C;\n",
              "      box-shadow: 0px 1px 3px 1px rgba(0, 0, 0, 0.15);\n",
              "      filter: drop-shadow(0px 1px 2px rgba(0, 0, 0, 0.3));\n",
              "      fill: #FFFFFF;\n",
              "    }\n",
              "  </style>\n",
              "\n",
              "    <script>\n",
              "      const buttonEl =\n",
              "        document.querySelector('#df-3d0a89f8-c7db-4252-8a9e-3743de08b72b button.colab-df-convert');\n",
              "      buttonEl.style.display =\n",
              "        google.colab.kernel.accessAllowed ? 'block' : 'none';\n",
              "\n",
              "      async function convertToInteractive(key) {\n",
              "        const element = document.querySelector('#df-3d0a89f8-c7db-4252-8a9e-3743de08b72b');\n",
              "        const dataTable =\n",
              "          await google.colab.kernel.invokeFunction('convertToInteractive',\n",
              "                                                    [key], {});\n",
              "        if (!dataTable) return;\n",
              "\n",
              "        const docLinkHtml = 'Like what you see? Visit the ' +\n",
              "          '<a target=\"_blank\" href=https://colab.research.google.com/notebooks/data_table.ipynb>data table notebook</a>'\n",
              "          + ' to learn more about interactive tables.';\n",
              "        element.innerHTML = '';\n",
              "        dataTable['output_type'] = 'display_data';\n",
              "        await google.colab.output.renderOutput(dataTable, element);\n",
              "        const docLink = document.createElement('div');\n",
              "        docLink.innerHTML = docLinkHtml;\n",
              "        element.appendChild(docLink);\n",
              "      }\n",
              "    </script>\n",
              "  </div>\n",
              "\n",
              "\n",
              "<div id=\"df-f214f626-264a-48a3-a757-008802c09f1c\">\n",
              "  <button class=\"colab-df-quickchart\" onclick=\"quickchart('df-f214f626-264a-48a3-a757-008802c09f1c')\"\n",
              "            title=\"Suggest charts\"\n",
              "            style=\"display:none;\">\n",
              "\n",
              "<svg xmlns=\"http://www.w3.org/2000/svg\" height=\"24px\"viewBox=\"0 0 24 24\"\n",
              "     width=\"24px\">\n",
              "    <g>\n",
              "        <path d=\"M19 3H5c-1.1 0-2 .9-2 2v14c0 1.1.9 2 2 2h14c1.1 0 2-.9 2-2V5c0-1.1-.9-2-2-2zM9 17H7v-7h2v7zm4 0h-2V7h2v10zm4 0h-2v-4h2v4z\"/>\n",
              "    </g>\n",
              "</svg>\n",
              "  </button>\n",
              "\n",
              "<style>\n",
              "  .colab-df-quickchart {\n",
              "      --bg-color: #E8F0FE;\n",
              "      --fill-color: #1967D2;\n",
              "      --hover-bg-color: #E2EBFA;\n",
              "      --hover-fill-color: #174EA6;\n",
              "      --disabled-fill-color: #AAA;\n",
              "      --disabled-bg-color: #DDD;\n",
              "  }\n",
              "\n",
              "  [theme=dark] .colab-df-quickchart {\n",
              "      --bg-color: #3B4455;\n",
              "      --fill-color: #D2E3FC;\n",
              "      --hover-bg-color: #434B5C;\n",
              "      --hover-fill-color: #FFFFFF;\n",
              "      --disabled-bg-color: #3B4455;\n",
              "      --disabled-fill-color: #666;\n",
              "  }\n",
              "\n",
              "  .colab-df-quickchart {\n",
              "    background-color: var(--bg-color);\n",
              "    border: none;\n",
              "    border-radius: 50%;\n",
              "    cursor: pointer;\n",
              "    display: none;\n",
              "    fill: var(--fill-color);\n",
              "    height: 32px;\n",
              "    padding: 0;\n",
              "    width: 32px;\n",
              "  }\n",
              "\n",
              "  .colab-df-quickchart:hover {\n",
              "    background-color: var(--hover-bg-color);\n",
              "    box-shadow: 0 1px 2px rgba(60, 64, 67, 0.3), 0 1px 3px 1px rgba(60, 64, 67, 0.15);\n",
              "    fill: var(--button-hover-fill-color);\n",
              "  }\n",
              "\n",
              "  .colab-df-quickchart-complete:disabled,\n",
              "  .colab-df-quickchart-complete:disabled:hover {\n",
              "    background-color: var(--disabled-bg-color);\n",
              "    fill: var(--disabled-fill-color);\n",
              "    box-shadow: none;\n",
              "  }\n",
              "\n",
              "  .colab-df-spinner {\n",
              "    border: 2px solid var(--fill-color);\n",
              "    border-color: transparent;\n",
              "    border-bottom-color: var(--fill-color);\n",
              "    animation:\n",
              "      spin 1s steps(1) infinite;\n",
              "  }\n",
              "\n",
              "  @keyframes spin {\n",
              "    0% {\n",
              "      border-color: transparent;\n",
              "      border-bottom-color: var(--fill-color);\n",
              "      border-left-color: var(--fill-color);\n",
              "    }\n",
              "    20% {\n",
              "      border-color: transparent;\n",
              "      border-left-color: var(--fill-color);\n",
              "      border-top-color: var(--fill-color);\n",
              "    }\n",
              "    30% {\n",
              "      border-color: transparent;\n",
              "      border-left-color: var(--fill-color);\n",
              "      border-top-color: var(--fill-color);\n",
              "      border-right-color: var(--fill-color);\n",
              "    }\n",
              "    40% {\n",
              "      border-color: transparent;\n",
              "      border-right-color: var(--fill-color);\n",
              "      border-top-color: var(--fill-color);\n",
              "    }\n",
              "    60% {\n",
              "      border-color: transparent;\n",
              "      border-right-color: var(--fill-color);\n",
              "    }\n",
              "    80% {\n",
              "      border-color: transparent;\n",
              "      border-right-color: var(--fill-color);\n",
              "      border-bottom-color: var(--fill-color);\n",
              "    }\n",
              "    90% {\n",
              "      border-color: transparent;\n",
              "      border-bottom-color: var(--fill-color);\n",
              "    }\n",
              "  }\n",
              "</style>\n",
              "\n",
              "  <script>\n",
              "    async function quickchart(key) {\n",
              "      const quickchartButtonEl =\n",
              "        document.querySelector('#' + key + ' button');\n",
              "      quickchartButtonEl.disabled = true;  // To prevent multiple clicks.\n",
              "      quickchartButtonEl.classList.add('colab-df-spinner');\n",
              "      try {\n",
              "        const charts = await google.colab.kernel.invokeFunction(\n",
              "            'suggestCharts', [key], {});\n",
              "      } catch (error) {\n",
              "        console.error('Error during call to suggestCharts:', error);\n",
              "      }\n",
              "      quickchartButtonEl.classList.remove('colab-df-spinner');\n",
              "      quickchartButtonEl.classList.add('colab-df-quickchart-complete');\n",
              "    }\n",
              "    (() => {\n",
              "      let quickchartButtonEl =\n",
              "        document.querySelector('#df-f214f626-264a-48a3-a757-008802c09f1c button');\n",
              "      quickchartButtonEl.style.display =\n",
              "        google.colab.kernel.accessAllowed ? 'block' : 'none';\n",
              "    })();\n",
              "  </script>\n",
              "</div>\n",
              "\n",
              "    </div>\n",
              "  </div>\n"
            ],
            "application/vnd.google.colaboratory.intrinsic+json": {
              "type": "dataframe",
              "variable_name": "data"
            }
          },
          "metadata": {},
          "execution_count": 3
        }
      ]
    },
    {
      "cell_type": "code",
      "source": [
        "data.isnull().sum()"
      ],
      "metadata": {
        "colab": {
          "base_uri": "https://localhost:8080/"
        },
        "id": "MCLw1XDzSlm9",
        "outputId": "45810078-8428-4080-9a74-c2c09c82da93"
      },
      "execution_count": null,
      "outputs": [
        {
          "output_type": "execute_result",
          "data": {
            "text/plain": [
              "Date            0\n",
              "Open            0\n",
              "High            0\n",
              "Low             0\n",
              "Close           0\n",
              "Volume          0\n",
              "Dividends       0\n",
              "Stock Splits    0\n",
              "Brand_Name      0\n",
              "Ticker          0\n",
              "Industry_Tag    0\n",
              "Country         0\n",
              "dtype: int64"
            ]
          },
          "metadata": {},
          "execution_count": 4
        }
      ]
    },
    {
      "cell_type": "code",
      "source": [
        "from sklearn.preprocessing import OrdinalEncoder\n",
        "\n",
        "enc = OrdinalEncoder()\n",
        "data[['Brand_Name']] = enc.fit_transform(data[['Brand_Name']])\n",
        "data[['Ticker']] = enc.fit_transform(data[['Ticker']])\n",
        "data[['Industry_Tag']] = enc.fit_transform(data[['Industry_Tag']])\n",
        "data[['Country']] = enc.fit_transform(data[['Country']])\n",
        "\n",
        "data.head()"
      ],
      "metadata": {
        "colab": {
          "base_uri": "https://localhost:8080/",
          "height": 206
        },
        "id": "FIQlI5ziuHn0",
        "outputId": "ed7a5261-7da3-4f1e-ad16-9fa2506fb833"
      },
      "execution_count": null,
      "outputs": [
        {
          "output_type": "execute_result",
          "data": {
            "text/plain": [
              "                        Date        Open        High         Low       Close  \\\n",
              "0  2023-09-20 00:00:00-04:00    4.840000    4.910000    4.630000    4.670000   \n",
              "1  2023-09-20 00:00:00-04:00  397.049988  397.989990  386.119995  386.299988   \n",
              "2  2023-09-20 00:00:00-04:00  564.349976  569.219971  562.659973  563.830017   \n",
              "3  2023-09-20 00:00:00-04:00  138.550003  139.369995  135.199997  135.289993   \n",
              "4  2023-09-20 00:00:00-04:00  179.259995  179.699997  175.399994  175.490005   \n",
              "\n",
              "       Volume  Dividends  Stock Splits  Brand_Name  Ticker  Industry_Tag  \\\n",
              "0   7441900.0        0.0           0.0        37.0    46.0           9.0   \n",
              "1   3866600.0        0.0           0.0        32.0    37.0           6.0   \n",
              "2   1311500.0        0.0           0.0        15.0    12.0          20.0   \n",
              "3  46263700.0        0.0           0.0         4.0     6.0           5.0   \n",
              "4  58436200.0        0.0           0.0         8.0     0.0          22.0   \n",
              "\n",
              "   Country  \n",
              "0      6.0  \n",
              "1      6.0  \n",
              "2      6.0  \n",
              "3      6.0  \n",
              "4      6.0  "
            ],
            "text/html": [
              "\n",
              "  <div id=\"df-1ddfd068-f568-4d6d-b634-9d6e95d7456f\" class=\"colab-df-container\">\n",
              "    <div>\n",
              "<style scoped>\n",
              "    .dataframe tbody tr th:only-of-type {\n",
              "        vertical-align: middle;\n",
              "    }\n",
              "\n",
              "    .dataframe tbody tr th {\n",
              "        vertical-align: top;\n",
              "    }\n",
              "\n",
              "    .dataframe thead th {\n",
              "        text-align: right;\n",
              "    }\n",
              "</style>\n",
              "<table border=\"1\" class=\"dataframe\">\n",
              "  <thead>\n",
              "    <tr style=\"text-align: right;\">\n",
              "      <th></th>\n",
              "      <th>Date</th>\n",
              "      <th>Open</th>\n",
              "      <th>High</th>\n",
              "      <th>Low</th>\n",
              "      <th>Close</th>\n",
              "      <th>Volume</th>\n",
              "      <th>Dividends</th>\n",
              "      <th>Stock Splits</th>\n",
              "      <th>Brand_Name</th>\n",
              "      <th>Ticker</th>\n",
              "      <th>Industry_Tag</th>\n",
              "      <th>Country</th>\n",
              "    </tr>\n",
              "  </thead>\n",
              "  <tbody>\n",
              "    <tr>\n",
              "      <th>0</th>\n",
              "      <td>2023-09-20 00:00:00-04:00</td>\n",
              "      <td>4.840000</td>\n",
              "      <td>4.910000</td>\n",
              "      <td>4.630000</td>\n",
              "      <td>4.670000</td>\n",
              "      <td>7441900.0</td>\n",
              "      <td>0.0</td>\n",
              "      <td>0.0</td>\n",
              "      <td>37.0</td>\n",
              "      <td>46.0</td>\n",
              "      <td>9.0</td>\n",
              "      <td>6.0</td>\n",
              "    </tr>\n",
              "    <tr>\n",
              "      <th>1</th>\n",
              "      <td>2023-09-20 00:00:00-04:00</td>\n",
              "      <td>397.049988</td>\n",
              "      <td>397.989990</td>\n",
              "      <td>386.119995</td>\n",
              "      <td>386.299988</td>\n",
              "      <td>3866600.0</td>\n",
              "      <td>0.0</td>\n",
              "      <td>0.0</td>\n",
              "      <td>32.0</td>\n",
              "      <td>37.0</td>\n",
              "      <td>6.0</td>\n",
              "      <td>6.0</td>\n",
              "    </tr>\n",
              "    <tr>\n",
              "      <th>2</th>\n",
              "      <td>2023-09-20 00:00:00-04:00</td>\n",
              "      <td>564.349976</td>\n",
              "      <td>569.219971</td>\n",
              "      <td>562.659973</td>\n",
              "      <td>563.830017</td>\n",
              "      <td>1311500.0</td>\n",
              "      <td>0.0</td>\n",
              "      <td>0.0</td>\n",
              "      <td>15.0</td>\n",
              "      <td>12.0</td>\n",
              "      <td>20.0</td>\n",
              "      <td>6.0</td>\n",
              "    </tr>\n",
              "    <tr>\n",
              "      <th>3</th>\n",
              "      <td>2023-09-20 00:00:00-04:00</td>\n",
              "      <td>138.550003</td>\n",
              "      <td>139.369995</td>\n",
              "      <td>135.199997</td>\n",
              "      <td>135.289993</td>\n",
              "      <td>46263700.0</td>\n",
              "      <td>0.0</td>\n",
              "      <td>0.0</td>\n",
              "      <td>4.0</td>\n",
              "      <td>6.0</td>\n",
              "      <td>5.0</td>\n",
              "      <td>6.0</td>\n",
              "    </tr>\n",
              "    <tr>\n",
              "      <th>4</th>\n",
              "      <td>2023-09-20 00:00:00-04:00</td>\n",
              "      <td>179.259995</td>\n",
              "      <td>179.699997</td>\n",
              "      <td>175.399994</td>\n",
              "      <td>175.490005</td>\n",
              "      <td>58436200.0</td>\n",
              "      <td>0.0</td>\n",
              "      <td>0.0</td>\n",
              "      <td>8.0</td>\n",
              "      <td>0.0</td>\n",
              "      <td>22.0</td>\n",
              "      <td>6.0</td>\n",
              "    </tr>\n",
              "  </tbody>\n",
              "</table>\n",
              "</div>\n",
              "    <div class=\"colab-df-buttons\">\n",
              "\n",
              "  <div class=\"colab-df-container\">\n",
              "    <button class=\"colab-df-convert\" onclick=\"convertToInteractive('df-1ddfd068-f568-4d6d-b634-9d6e95d7456f')\"\n",
              "            title=\"Convert this dataframe to an interactive table.\"\n",
              "            style=\"display:none;\">\n",
              "\n",
              "  <svg xmlns=\"http://www.w3.org/2000/svg\" height=\"24px\" viewBox=\"0 -960 960 960\">\n",
              "    <path d=\"M120-120v-720h720v720H120Zm60-500h600v-160H180v160Zm220 220h160v-160H400v160Zm0 220h160v-160H400v160ZM180-400h160v-160H180v160Zm440 0h160v-160H620v160ZM180-180h160v-160H180v160Zm440 0h160v-160H620v160Z\"/>\n",
              "  </svg>\n",
              "    </button>\n",
              "\n",
              "  <style>\n",
              "    .colab-df-container {\n",
              "      display:flex;\n",
              "      gap: 12px;\n",
              "    }\n",
              "\n",
              "    .colab-df-convert {\n",
              "      background-color: #E8F0FE;\n",
              "      border: none;\n",
              "      border-radius: 50%;\n",
              "      cursor: pointer;\n",
              "      display: none;\n",
              "      fill: #1967D2;\n",
              "      height: 32px;\n",
              "      padding: 0 0 0 0;\n",
              "      width: 32px;\n",
              "    }\n",
              "\n",
              "    .colab-df-convert:hover {\n",
              "      background-color: #E2EBFA;\n",
              "      box-shadow: 0px 1px 2px rgba(60, 64, 67, 0.3), 0px 1px 3px 1px rgba(60, 64, 67, 0.15);\n",
              "      fill: #174EA6;\n",
              "    }\n",
              "\n",
              "    .colab-df-buttons div {\n",
              "      margin-bottom: 4px;\n",
              "    }\n",
              "\n",
              "    [theme=dark] .colab-df-convert {\n",
              "      background-color: #3B4455;\n",
              "      fill: #D2E3FC;\n",
              "    }\n",
              "\n",
              "    [theme=dark] .colab-df-convert:hover {\n",
              "      background-color: #434B5C;\n",
              "      box-shadow: 0px 1px 3px 1px rgba(0, 0, 0, 0.15);\n",
              "      filter: drop-shadow(0px 1px 2px rgba(0, 0, 0, 0.3));\n",
              "      fill: #FFFFFF;\n",
              "    }\n",
              "  </style>\n",
              "\n",
              "    <script>\n",
              "      const buttonEl =\n",
              "        document.querySelector('#df-1ddfd068-f568-4d6d-b634-9d6e95d7456f button.colab-df-convert');\n",
              "      buttonEl.style.display =\n",
              "        google.colab.kernel.accessAllowed ? 'block' : 'none';\n",
              "\n",
              "      async function convertToInteractive(key) {\n",
              "        const element = document.querySelector('#df-1ddfd068-f568-4d6d-b634-9d6e95d7456f');\n",
              "        const dataTable =\n",
              "          await google.colab.kernel.invokeFunction('convertToInteractive',\n",
              "                                                    [key], {});\n",
              "        if (!dataTable) return;\n",
              "\n",
              "        const docLinkHtml = 'Like what you see? Visit the ' +\n",
              "          '<a target=\"_blank\" href=https://colab.research.google.com/notebooks/data_table.ipynb>data table notebook</a>'\n",
              "          + ' to learn more about interactive tables.';\n",
              "        element.innerHTML = '';\n",
              "        dataTable['output_type'] = 'display_data';\n",
              "        await google.colab.output.renderOutput(dataTable, element);\n",
              "        const docLink = document.createElement('div');\n",
              "        docLink.innerHTML = docLinkHtml;\n",
              "        element.appendChild(docLink);\n",
              "      }\n",
              "    </script>\n",
              "  </div>\n",
              "\n",
              "\n",
              "<div id=\"df-2eab44f7-ff87-4ccb-8ae6-6a115d4d4c2b\">\n",
              "  <button class=\"colab-df-quickchart\" onclick=\"quickchart('df-2eab44f7-ff87-4ccb-8ae6-6a115d4d4c2b')\"\n",
              "            title=\"Suggest charts\"\n",
              "            style=\"display:none;\">\n",
              "\n",
              "<svg xmlns=\"http://www.w3.org/2000/svg\" height=\"24px\"viewBox=\"0 0 24 24\"\n",
              "     width=\"24px\">\n",
              "    <g>\n",
              "        <path d=\"M19 3H5c-1.1 0-2 .9-2 2v14c0 1.1.9 2 2 2h14c1.1 0 2-.9 2-2V5c0-1.1-.9-2-2-2zM9 17H7v-7h2v7zm4 0h-2V7h2v10zm4 0h-2v-4h2v4z\"/>\n",
              "    </g>\n",
              "</svg>\n",
              "  </button>\n",
              "\n",
              "<style>\n",
              "  .colab-df-quickchart {\n",
              "      --bg-color: #E8F0FE;\n",
              "      --fill-color: #1967D2;\n",
              "      --hover-bg-color: #E2EBFA;\n",
              "      --hover-fill-color: #174EA6;\n",
              "      --disabled-fill-color: #AAA;\n",
              "      --disabled-bg-color: #DDD;\n",
              "  }\n",
              "\n",
              "  [theme=dark] .colab-df-quickchart {\n",
              "      --bg-color: #3B4455;\n",
              "      --fill-color: #D2E3FC;\n",
              "      --hover-bg-color: #434B5C;\n",
              "      --hover-fill-color: #FFFFFF;\n",
              "      --disabled-bg-color: #3B4455;\n",
              "      --disabled-fill-color: #666;\n",
              "  }\n",
              "\n",
              "  .colab-df-quickchart {\n",
              "    background-color: var(--bg-color);\n",
              "    border: none;\n",
              "    border-radius: 50%;\n",
              "    cursor: pointer;\n",
              "    display: none;\n",
              "    fill: var(--fill-color);\n",
              "    height: 32px;\n",
              "    padding: 0;\n",
              "    width: 32px;\n",
              "  }\n",
              "\n",
              "  .colab-df-quickchart:hover {\n",
              "    background-color: var(--hover-bg-color);\n",
              "    box-shadow: 0 1px 2px rgba(60, 64, 67, 0.3), 0 1px 3px 1px rgba(60, 64, 67, 0.15);\n",
              "    fill: var(--button-hover-fill-color);\n",
              "  }\n",
              "\n",
              "  .colab-df-quickchart-complete:disabled,\n",
              "  .colab-df-quickchart-complete:disabled:hover {\n",
              "    background-color: var(--disabled-bg-color);\n",
              "    fill: var(--disabled-fill-color);\n",
              "    box-shadow: none;\n",
              "  }\n",
              "\n",
              "  .colab-df-spinner {\n",
              "    border: 2px solid var(--fill-color);\n",
              "    border-color: transparent;\n",
              "    border-bottom-color: var(--fill-color);\n",
              "    animation:\n",
              "      spin 1s steps(1) infinite;\n",
              "  }\n",
              "\n",
              "  @keyframes spin {\n",
              "    0% {\n",
              "      border-color: transparent;\n",
              "      border-bottom-color: var(--fill-color);\n",
              "      border-left-color: var(--fill-color);\n",
              "    }\n",
              "    20% {\n",
              "      border-color: transparent;\n",
              "      border-left-color: var(--fill-color);\n",
              "      border-top-color: var(--fill-color);\n",
              "    }\n",
              "    30% {\n",
              "      border-color: transparent;\n",
              "      border-left-color: var(--fill-color);\n",
              "      border-top-color: var(--fill-color);\n",
              "      border-right-color: var(--fill-color);\n",
              "    }\n",
              "    40% {\n",
              "      border-color: transparent;\n",
              "      border-right-color: var(--fill-color);\n",
              "      border-top-color: var(--fill-color);\n",
              "    }\n",
              "    60% {\n",
              "      border-color: transparent;\n",
              "      border-right-color: var(--fill-color);\n",
              "    }\n",
              "    80% {\n",
              "      border-color: transparent;\n",
              "      border-right-color: var(--fill-color);\n",
              "      border-bottom-color: var(--fill-color);\n",
              "    }\n",
              "    90% {\n",
              "      border-color: transparent;\n",
              "      border-bottom-color: var(--fill-color);\n",
              "    }\n",
              "  }\n",
              "</style>\n",
              "\n",
              "  <script>\n",
              "    async function quickchart(key) {\n",
              "      const quickchartButtonEl =\n",
              "        document.querySelector('#' + key + ' button');\n",
              "      quickchartButtonEl.disabled = true;  // To prevent multiple clicks.\n",
              "      quickchartButtonEl.classList.add('colab-df-spinner');\n",
              "      try {\n",
              "        const charts = await google.colab.kernel.invokeFunction(\n",
              "            'suggestCharts', [key], {});\n",
              "      } catch (error) {\n",
              "        console.error('Error during call to suggestCharts:', error);\n",
              "      }\n",
              "      quickchartButtonEl.classList.remove('colab-df-spinner');\n",
              "      quickchartButtonEl.classList.add('colab-df-quickchart-complete');\n",
              "    }\n",
              "    (() => {\n",
              "      let quickchartButtonEl =\n",
              "        document.querySelector('#df-2eab44f7-ff87-4ccb-8ae6-6a115d4d4c2b button');\n",
              "      quickchartButtonEl.style.display =\n",
              "        google.colab.kernel.accessAllowed ? 'block' : 'none';\n",
              "    })();\n",
              "  </script>\n",
              "</div>\n",
              "\n",
              "    </div>\n",
              "  </div>\n"
            ],
            "application/vnd.google.colaboratory.intrinsic+json": {
              "type": "dataframe",
              "variable_name": "data"
            }
          },
          "metadata": {},
          "execution_count": 5
        }
      ]
    },
    {
      "cell_type": "markdown",
      "source": [
        "Samples"
      ],
      "metadata": {
        "id": "Wuuk4tqls95b"
      }
    },
    {
      "cell_type": "code",
      "source": [
        "# selecting 100 samples randomly\n",
        "np.random.seed(42)"
      ],
      "metadata": {
        "id": "d599C0r_tEL1"
      },
      "execution_count": null,
      "outputs": []
    },
    {
      "cell_type": "code",
      "source": [
        "sample = data.sample(n=100)"
      ],
      "metadata": {
        "id": "gM8e8mMjs3HI"
      },
      "execution_count": null,
      "outputs": []
    },
    {
      "cell_type": "markdown",
      "source": [
        "Mean and Proportion"
      ],
      "metadata": {
        "id": "2Gt7RdkThRao"
      }
    },
    {
      "cell_type": "code",
      "source": [
        "import scipy.stats as ss\n",
        "import statistics as stat\n",
        "import math"
      ],
      "metadata": {
        "id": "0NV6Uz8Kvnbe"
      },
      "execution_count": null,
      "outputs": []
    },
    {
      "cell_type": "markdown",
      "source": [
        "Variable - Close"
      ],
      "metadata": {
        "id": "hQ_WY-MsyOf7"
      }
    },
    {
      "cell_type": "code",
      "source": [
        "# Mean\n",
        "sample_mean = sample[['Close']].mean()[0]\n",
        "population_sd = data[['Close']].std()[0]\n",
        "guess = 70\n",
        "n=100\n",
        "\n",
        "print(f'Sample Mean: {sample_mean}')\n",
        "print(f'Population Standard Deviation: {population_sd}')\n",
        "print(f'Guess Mean: {guess}')\n",
        "\n",
        "# CI\n",
        "alpha = 0.05\n",
        "lower_limit = -1.96\n",
        "upper_limit = 1.96\n",
        "\n",
        "print(f'CI = [{lower_limit}, {upper_limit}]')\n",
        "\n",
        "z_c = (sample_mean-guess)/(population_sd/math.sqrt(n))\n",
        "\n",
        "print(f'z = {z_c}')"
      ],
      "metadata": {
        "colab": {
          "base_uri": "https://localhost:8080/"
        },
        "id": "Wn-sRMZQhcoI",
        "outputId": "dfd40dea-3735-4fea-c2b1-5ebdbde9a4cf"
      },
      "execution_count": null,
      "outputs": [
        {
          "output_type": "stream",
          "name": "stdout",
          "text": [
            "Sample Mean: 71.4655403316021\n",
            "Population Standard Deviation: 117.19096308450717\n",
            "Guess Mean: 70\n",
            "CI = [-1.96, 1.96]\n",
            "z = 0.12505574602585087\n"
          ]
        }
      ]
    },
    {
      "cell_type": "code",
      "source": [
        "# Population\n",
        "\n",
        "sample_proportion = (sample[sample['Close'] > 65].shape[0])/sample.shape[0]\n",
        "population_proportion = (data[data['Close'] > 65].shape[0])/data.shape[0]\n",
        "n=100\n",
        "\n",
        "print(f'Sample proportion: {sample_proportion}')\n",
        "print(f'Population proportion: {population_proportion}')\n",
        "\n",
        "# CI\n",
        "alpha = 0.05\n",
        "lower_limit = -1.96\n",
        "upper_limit = math.inf # One Tailed test\n",
        "\n",
        "print(f'CI = [{lower_limit}, {upper_limit}]')\n",
        "\n",
        "z_c = (sample_proportion-population_proportion)/math.sqrt((population_proportion*(1-population_proportion))/n)\n",
        "print(f'z = {z_c}')"
      ],
      "metadata": {
        "colab": {
          "base_uri": "https://localhost:8080/"
        },
        "id": "AeGynH2BwmW8",
        "outputId": "4ad6344b-13d9-4507-89c2-31a8cbc4da62"
      },
      "execution_count": null,
      "outputs": [
        {
          "output_type": "stream",
          "name": "stdout",
          "text": [
            "Sample proportion: 0.27\n",
            "Population proportion: 0.2751248422715753\n",
            "CI = [-1.96, inf]\n",
            "z = -0.1147582698873859\n"
          ]
        }
      ]
    },
    {
      "cell_type": "markdown",
      "source": [
        "Variable - Open"
      ],
      "metadata": {
        "id": "cL_K8J3syZiZ"
      }
    },
    {
      "cell_type": "code",
      "source": [
        "# Mean\n",
        "sample_mean = sample[['Open']].mean()[0]\n",
        "population_sd = data[['Open']].std()[0]\n",
        "guess = 70\n",
        "n=100\n",
        "\n",
        "print(f'Sample Mean: {sample_mean}')\n",
        "print(f'Population Standard Deviation: {population_sd}')\n",
        "print(f'Guess Mean: {guess}')\n",
        "\n",
        "# CI\n",
        "alpha = 0.05\n",
        "lower_limit = -1.96\n",
        "upper_limit = 1.96\n",
        "\n",
        "print(f'CI = [{lower_limit}, {upper_limit}]')\n",
        "\n",
        "z_c = (sample_mean-guess)/(population_sd/math.sqrt(n))\n",
        "\n",
        "print(f'z = {z_c}')"
      ],
      "metadata": {
        "colab": {
          "base_uri": "https://localhost:8080/"
        },
        "outputId": "2bfd74f4-97b7-4933-c3b2-e83b0c3d9ee7",
        "id": "Vgf-h1c7yZie"
      },
      "execution_count": null,
      "outputs": [
        {
          "output_type": "stream",
          "name": "stdout",
          "text": [
            "Sample Mean: 71.37208537431603\n",
            "Population Standard Deviation: 117.20315835421648\n",
            "Guess Mean: 70\n",
            "CI = [-1.96, 1.96]\n",
            "z = 0.11706897609100712\n"
          ]
        }
      ]
    },
    {
      "cell_type": "code",
      "source": [
        "# Population\n",
        "\n",
        "sample_proportion = (sample[sample['Open'] > 65].shape[0])/sample.shape[0]\n",
        "population_proportion = (data[data['Open'] > 65].shape[0])/data.shape[0]\n",
        "n=100\n",
        "\n",
        "print(f'Sample proportion: {sample_proportion}')\n",
        "print(f'Population proportion: {population_proportion}')\n",
        "\n",
        "# CI\n",
        "alpha = 0.05\n",
        "lower_limit = -1.96\n",
        "upper_limit = math.inf # One Tailed test\n",
        "\n",
        "print(f'CI = [{lower_limit}, {upper_limit}]')\n",
        "\n",
        "z_c = (sample_proportion-population_proportion)/math.sqrt((population_proportion*(1-population_proportion))/n)\n",
        "print(f'z = {z_c}')"
      ],
      "metadata": {
        "colab": {
          "base_uri": "https://localhost:8080/"
        },
        "outputId": "c36b4469-5e3d-46f9-addd-8721ea6f973c",
        "id": "oBWL66kwyZil"
      },
      "execution_count": null,
      "outputs": [
        {
          "output_type": "stream",
          "name": "stdout",
          "text": [
            "Sample proportion: 0.26\n",
            "Population proportion: 0.27508552187107915\n",
            "CI = [-1.96, inf]\n",
            "z = -0.33781823245707715\n"
          ]
        }
      ]
    },
    {
      "cell_type": "markdown",
      "source": [
        "Variable - Volume"
      ],
      "metadata": {
        "id": "5HbvGmAgycnZ"
      }
    },
    {
      "cell_type": "code",
      "source": [
        "# Mean\n",
        "sample_mean = sample[['Volume']].mean()[0]\n",
        "population_sd = data[['Volume']].std()[0]\n",
        "guess = 20000000\n",
        "n=100\n",
        "\n",
        "print(f'Sample Mean: {sample_mean}')\n",
        "print(f'Population Standard Deviation: {population_sd}')\n",
        "print(f'Guess Mean: {guess}')\n",
        "\n",
        "# CI\n",
        "alpha = 0.05\n",
        "lower_limit = -1.96\n",
        "upper_limit = 1.96\n",
        "\n",
        "print(f'CI = [{lower_limit}, {upper_limit}]')\n",
        "\n",
        "z_c = (sample_mean-guess)/(population_sd/math.sqrt(n))\n",
        "\n",
        "print(f'z = {z_c}')"
      ],
      "metadata": {
        "colab": {
          "base_uri": "https://localhost:8080/"
        },
        "outputId": "49c7c58a-06bb-4dfe-9431-93a288ec0081",
        "id": "4Ravfen0ycnd"
      },
      "execution_count": null,
      "outputs": [
        {
          "output_type": "stream",
          "name": "stdout",
          "text": [
            "Sample Mean: 20519497.93\n",
            "Population Standard Deviation: 88643605.16094734\n",
            "Guess Mean: 20000000\n",
            "CI = [-1.96, 1.96]\n",
            "z = 0.058605234867959634\n"
          ]
        }
      ]
    },
    {
      "cell_type": "code",
      "source": [
        "# Population\n",
        "\n",
        "sample_proportion = (sample[sample['Volume'] > 23491025].shape[0])/sample.shape[0]\n",
        "population_proportion = (data[data['Volume'] > 23491025].shape[0])/data.shape[0]\n",
        "n=100\n",
        "\n",
        "print(f'Sample proportion: {sample_proportion}')\n",
        "print(f'Population proportion: {population_proportion}')\n",
        "\n",
        "# CI\n",
        "alpha = 0.05\n",
        "lower_limit = -1.96\n",
        "upper_limit = math.inf # One Tailed test\n",
        "\n",
        "print(f'CI = [{lower_limit}, {upper_limit}]')\n",
        "\n",
        "z_c = (sample_proportion-population_proportion)/math.sqrt((population_proportion*(1-population_proportion))/n)\n",
        "print(f'z = {z_c}')"
      ],
      "metadata": {
        "colab": {
          "base_uri": "https://localhost:8080/"
        },
        "outputId": "4c0fe13b-9927-41a6-ceea-61a869cc7f3e",
        "id": "icXtc-yMycng"
      },
      "execution_count": null,
      "outputs": [
        {
          "output_type": "stream",
          "name": "stdout",
          "text": [
            "Sample proportion: 0.21\n",
            "Population proportion: 0.1593405611378609\n",
            "CI = [-1.96, inf]\n",
            "z = 1.384162748474168\n"
          ]
        }
      ]
    },
    {
      "cell_type": "markdown",
      "source": [
        "Two sample Means"
      ],
      "metadata": {
        "id": "zU3GUtQQzttU"
      }
    },
    {
      "cell_type": "code",
      "source": [
        "sample2 = data.sample(n=200)"
      ],
      "metadata": {
        "id": "g7a8z2dBzs9A"
      },
      "execution_count": null,
      "outputs": []
    },
    {
      "cell_type": "markdown",
      "source": [
        "Variable - High"
      ],
      "metadata": {
        "id": "6SnusZLH0FUl"
      }
    },
    {
      "cell_type": "code",
      "source": [
        "# Mean\n",
        "first_population_mean = sample[['High']].mean()[0]\n",
        "second_population_mean = sample2[['High']].mean()[0]\n",
        "first_population_sd = sample[['High']].std()[0]\n",
        "second_population_sd = sample2[['High']].std()[0]\n",
        "n1=100\n",
        "n2=200\n",
        "\n",
        "print(f'First population mean: {first_population_mean}')\n",
        "print(f'Second population mean: {second_population_mean}')\n",
        "print(f'First population standard deviation: {first_population_sd}')\n",
        "print(f'Second population standard deviation: {second_population_sd}')\n",
        "\n",
        "# CI\n",
        "alpha = 0.05\n",
        "lower_limit = -1.96\n",
        "upper_limit = 1.96\n",
        "\n",
        "print(f'CI = [{lower_limit}, {upper_limit}]')\n",
        "\n",
        "z_c = (first_population_mean-second_population_mean)/math.sqrt((first_population_sd**2/n1)+(second_population_sd**2/n2))\n",
        "print(f'z = {z_c}')"
      ],
      "metadata": {
        "colab": {
          "base_uri": "https://localhost:8080/"
        },
        "id": "7e81EN1m0IcH",
        "outputId": "e09de84b-fe33-4dbd-c89e-7cd847687850"
      },
      "execution_count": null,
      "outputs": [
        {
          "output_type": "stream",
          "name": "stdout",
          "text": [
            "First population mean: 72.03416178851722\n",
            "Second population mean: 57.07661898186036\n",
            "First population standard deviation: 162.7423622793537\n",
            "Second population standard deviation: 99.54332564296732\n",
            "CI = [-1.96, 1.96]\n",
            "z = 0.8435723709840648\n"
          ]
        }
      ]
    },
    {
      "cell_type": "code",
      "source": [
        "# Proportion\n",
        "first_population_proportion = (sample[sample['High'] > 72].shape[0])/sample.shape[0]\n",
        "second_population_proportion = (sample2[sample2['High'] > 72].shape[0])/sample2.shape[0]\n",
        "population_proportion = (data[data['High'] > 72].shape[0])/data.shape[0]\n",
        "n1=100\n",
        "n2=200\n",
        "\n",
        "print(f'First population proportion: {first_population_proportion}')\n",
        "print(f'Second population proportion: {second_population_proportion}')\n",
        "print(f'Standard population proportion: {population_proportion}')\n",
        "\n",
        "# CI\n",
        "alpha = 0.05\n",
        "lower_limit = -1.96\n",
        "upper_limit = 1.96\n",
        "\n",
        "print(f'CI = [{lower_limit}, {upper_limit}]')\n",
        "\n",
        "z_c = (first_population_proportion-second_population_proportion)/math.sqrt(population_proportion*(1-population_proportion)*((1/n1)+(1/n2)))\n",
        "print(f'z = {z_c}')"
      ],
      "metadata": {
        "colab": {
          "base_uri": "https://localhost:8080/"
        },
        "id": "nV4DiLiP1FdN",
        "outputId": "93340b3f-a50d-43e9-c6a9-4efa6d487fa5"
      },
      "execution_count": null,
      "outputs": [
        {
          "output_type": "stream",
          "name": "stdout",
          "text": [
            "First population proportion: 0.21\n",
            "Second population proportion: 0.225\n",
            "Standard population proportion: 0.25406340593309096\n",
            "CI = [-1.96, 1.96]\n",
            "z = -0.28133490298439556\n"
          ]
        }
      ]
    },
    {
      "cell_type": "markdown",
      "source": [
        "Variable - Low"
      ],
      "metadata": {
        "id": "uVF0vRBB3Ak0"
      }
    },
    {
      "cell_type": "code",
      "source": [
        "# Mean\n",
        "first_population_mean = sample[['Low']].mean()[0]\n",
        "second_population_mean = sample2[['Low']].mean()[0]\n",
        "first_population_sd = sample[['Low']].std()[0]\n",
        "second_population_sd = sample2[['Low']].std()[0]\n",
        "n1=100\n",
        "n2=200\n",
        "\n",
        "print(f'First population mean: {first_population_mean}')\n",
        "print(f'Second population mean: {second_population_mean}')\n",
        "print(f'First population standard deviation: {first_population_sd}')\n",
        "print(f'Second population standard deviation: {second_population_sd}')\n",
        "\n",
        "# CI\n",
        "alpha = 0.05\n",
        "lower_limit = -1.96\n",
        "upper_limit = 1.96\n",
        "\n",
        "print(f'CI = [{lower_limit}, {upper_limit}]')\n",
        "\n",
        "z_c = (first_population_mean-second_population_mean)/math.sqrt((first_population_sd**2/n1)+(second_population_sd**2/n2))\n",
        "print(f'z = {z_c}')"
      ],
      "metadata": {
        "colab": {
          "base_uri": "https://localhost:8080/"
        },
        "outputId": "c23b740c-fcf9-4ba8-fce0-81162216ab57",
        "id": "dxLyw9SM3AlQ"
      },
      "execution_count": null,
      "outputs": [
        {
          "output_type": "stream",
          "name": "stdout",
          "text": [
            "First population mean: 70.63835885211907\n",
            "Second population mean: 55.587255360525326\n",
            "First population standard deviation: 159.55236796897083\n",
            "Second population standard deviation: 95.78267311262937\n",
            "CI = [-1.96, 1.96]\n",
            "z = 0.8683376059845432\n"
          ]
        }
      ]
    },
    {
      "cell_type": "code",
      "source": [
        "# Proportion\n",
        "first_population_proportion = (sample[sample['Low'] > 60].shape[0])/sample.shape[0]\n",
        "second_population_proportion = (sample2[sample2['Low'] > 60].shape[0])/sample2.shape[0]\n",
        "population_proportion = (data[data['Low'] > 60].shape[0])/data.shape[0]\n",
        "n1=100\n",
        "n2=200\n",
        "\n",
        "print(f'First population proportion: {first_population_proportion}')\n",
        "print(f'Second population proportion: {second_population_proportion}')\n",
        "print(f'Standard population proportion: {population_proportion}')\n",
        "\n",
        "# CI\n",
        "alpha = 0.05\n",
        "lower_limit = -1.96\n",
        "upper_limit = 1.96\n",
        "\n",
        "print(f'CI = [{lower_limit}, {upper_limit}]')\n",
        "\n",
        "z_c = (first_population_proportion-second_population_proportion)/math.sqrt(population_proportion*(1-population_proportion)*((1/n1)+(1/n2)))\n",
        "print(f'z = {z_c}')"
      ],
      "metadata": {
        "colab": {
          "base_uri": "https://localhost:8080/"
        },
        "outputId": "17ba7769-4bbf-48a5-dbdb-5c5d0c9b23a4",
        "id": "AGfAdyEZ3AlT"
      },
      "execution_count": null,
      "outputs": [
        {
          "output_type": "stream",
          "name": "stdout",
          "text": [
            "First population proportion: 0.31\n",
            "Second population proportion: 0.24\n",
            "Standard population proportion: 0.29417378902102925\n",
            "CI = [-1.96, 1.96]\n",
            "z = 1.2543003179409375\n"
          ]
        }
      ]
    },
    {
      "cell_type": "markdown",
      "source": [
        "Variable - Dividends"
      ],
      "metadata": {
        "id": "2KaVf5Jf3A8E"
      }
    },
    {
      "cell_type": "code",
      "source": [
        "# Mean\n",
        "first_population_mean = sample[['Dividends']].mean()[0]\n",
        "second_population_mean = sample2[['Dividends']].mean()[0]\n",
        "first_population_sd = sample[['Dividends']].std()[0]\n",
        "second_population_sd = sample2[['Dividends']].std()[0]\n",
        "n1=100\n",
        "n2=200\n",
        "\n",
        "print(f'First population mean: {first_population_mean}')\n",
        "print(f'Second population mean: {second_population_mean}')\n",
        "print(f'First population standard deviation: {first_population_sd}')\n",
        "print(f'Second population standard deviation: {second_population_sd}')\n",
        "\n",
        "# CI\n",
        "alpha = 0.05\n",
        "lower_limit = -1.96\n",
        "upper_limit = 1.96\n",
        "\n",
        "print(f'CI = [{lower_limit}, {upper_limit}]')\n",
        "\n",
        "z_c = (first_population_mean-second_population_mean)/math.sqrt((first_population_sd**2/n1)+(second_population_sd**2/n2))\n",
        "print(f'z = {z_c}')"
      ],
      "metadata": {
        "colab": {
          "base_uri": "https://localhost:8080/"
        },
        "outputId": "ff487d33-4884-4f15-e2ec-2ef95eb249ac",
        "id": "bx1cS_303A8H"
      },
      "execution_count": null,
      "outputs": [
        {
          "output_type": "stream",
          "name": "stdout",
          "text": [
            "First population mean: 0.0\n",
            "Second population mean: 0.0011375\n",
            "First population standard deviation: 0.0\n",
            "Second population standard deviation: 0.01225718305452606\n",
            "CI = [-1.96, 1.96]\n",
            "z = -1.312428736719717\n"
          ]
        }
      ]
    },
    {
      "cell_type": "code",
      "source": [
        "# Proportion\n",
        "first_population_proportion = (sample[sample['Dividends'] > 0.0005].shape[0])/sample.shape[0]\n",
        "second_population_proportion = (sample2[sample2['Dividends'] > 0.0005].shape[0])/sample2.shape[0]\n",
        "population_proportion = (data[data['Dividends'] > 0.0005].shape[0])/data.shape[0]\n",
        "n1=100\n",
        "n2=200\n",
        "\n",
        "print(f'First population proportion: {first_population_proportion}')\n",
        "print(f'Second population proportion: {second_population_proportion}')\n",
        "print(f'Standard population proportion: {population_proportion}')\n",
        "\n",
        "# CI\n",
        "alpha = 0.05\n",
        "lower_limit = -1.96\n",
        "upper_limit = 1.96\n",
        "\n",
        "print(f'CI = [{lower_limit}, {upper_limit}]')\n",
        "\n",
        "z_c = (first_population_proportion-second_population_proportion)/math.sqrt(population_proportion*(1-population_proportion)*((1/n1)+(1/n2)))\n",
        "print(f'z = {z_c}')"
      ],
      "metadata": {
        "colab": {
          "base_uri": "https://localhost:8080/"
        },
        "outputId": "0017852a-8510-42fa-8fef-a3cc1c13c45f",
        "id": "YymiGqk-3A8L"
      },
      "execution_count": null,
      "outputs": [
        {
          "output_type": "stream",
          "name": "stdout",
          "text": [
            "First population proportion: 0.0\n",
            "Second population proportion: 0.01\n",
            "Standard population proportion: 0.008897134257720204\n",
            "CI = [-1.96, 1.96]\n",
            "z = -0.869500692985797\n"
          ]
        }
      ]
    },
    {
      "cell_type": "markdown",
      "source": [
        "Correlation"
      ],
      "metadata": {
        "id": "tJZSr5k74560"
      }
    },
    {
      "cell_type": "markdown",
      "source": [
        "Variable - Country"
      ],
      "metadata": {
        "id": "95_AM-MH6D3s"
      }
    },
    {
      "cell_type": "code",
      "source": [
        "# Correlation\n",
        "cor = np.corrcoef(sample['Close'], sample['Country'])[0][1]\n",
        "n=100\n",
        "\n",
        "print(f'Sample correlation coefficient: {cor}')\n",
        "\n",
        "# CI\n",
        "alpha = 0.05\n",
        "degrees_of_freedom = n-2\n",
        "lower_limit = -1.661\n",
        "upper_limit = 1.661\n",
        "\n",
        "print(f'CI = [{lower_limit}, {upper_limit}]')\n",
        "\n",
        "z_c = cor/math.sqrt((1-cor**2)/(n-2))\n",
        "print(f'z = {z_c}')"
      ],
      "metadata": {
        "colab": {
          "base_uri": "https://localhost:8080/"
        },
        "id": "q4b1JnG447Og",
        "outputId": "30e480f0-5844-4ba0-f14c-d9c421f98b93"
      },
      "execution_count": null,
      "outputs": [
        {
          "output_type": "stream",
          "name": "stdout",
          "text": [
            "Sample correlation coefficient: 0.11542220809843841\n",
            "CI = [-1.661, 1.661]\n",
            "z = 1.1503096331909108\n"
          ]
        }
      ]
    },
    {
      "cell_type": "markdown",
      "source": [
        "Variable - Ticker"
      ],
      "metadata": {
        "id": "Rw6tjgTS6M1e"
      }
    },
    {
      "cell_type": "code",
      "source": [
        "# Correlation\n",
        "cor = np.corrcoef(sample['Close'], sample['Ticker'])[0][1]\n",
        "n=100\n",
        "\n",
        "print(f'Sample correlation coefficient: {cor}')\n",
        "\n",
        "# CI\n",
        "alpha = 0.05\n",
        "degrees_of_freedom = n-2\n",
        "lower_limit = -1.661\n",
        "upper_limit = 1.661\n",
        "\n",
        "print(f'CI = [{lower_limit}, {upper_limit}]')\n",
        "\n",
        "z_c = cor/math.sqrt((1-cor**2)/(n-2))\n",
        "print(f'z = {z_c}')"
      ],
      "metadata": {
        "colab": {
          "base_uri": "https://localhost:8080/"
        },
        "outputId": "918a44af-287d-427f-da10-07fd5ffec69d",
        "id": "t-IkgTkZ6M1g"
      },
      "execution_count": null,
      "outputs": [
        {
          "output_type": "stream",
          "name": "stdout",
          "text": [
            "Sample correlation coefficient: -0.19195876618931568\n",
            "CI = [-1.661, 1.661]\n",
            "z = -1.936304301122827\n"
          ]
        }
      ]
    },
    {
      "cell_type": "markdown",
      "source": [
        "Variable - Industry_Tag"
      ],
      "metadata": {
        "id": "zjK9bJIF6NJh"
      }
    },
    {
      "cell_type": "code",
      "source": [
        "# Correlation\n",
        "cor = np.corrcoef(sample['Close'], sample['Industry_Tag'])[0][1]\n",
        "n=100\n",
        "\n",
        "print(f'Sample correlation coefficient: {cor}')\n",
        "\n",
        "# CI\n",
        "alpha = 0.05\n",
        "degrees_of_freedom = n-2\n",
        "lower_limit = -1.661\n",
        "upper_limit = 1.661\n",
        "\n",
        "print(f'CI = [{lower_limit}, {upper_limit}]')\n",
        "\n",
        "z_c = cor/math.sqrt((1-cor**2)/(n-2))\n",
        "print(f'z = {z_c}')"
      ],
      "metadata": {
        "colab": {
          "base_uri": "https://localhost:8080/"
        },
        "outputId": "16f41f20-9208-4636-81eb-2cbb1094e6da",
        "id": "31l-zVW06NJk"
      },
      "execution_count": null,
      "outputs": [
        {
          "output_type": "stream",
          "name": "stdout",
          "text": [
            "Sample correlation coefficient: 0.07915896745362107\n",
            "CI = [-1.661, 1.661]\n",
            "z = 0.7861005768354207\n"
          ]
        }
      ]
    },
    {
      "cell_type": "markdown",
      "source": [
        "Variable - Brand_Name"
      ],
      "metadata": {
        "id": "qlFOpgmn6NY1"
      }
    },
    {
      "cell_type": "code",
      "source": [
        "# Correlation\n",
        "cor = np.corrcoef(sample['Close'], sample['Brand_Name'])[0][1]\n",
        "n=100\n",
        "\n",
        "print(f'Sample correlation coefficient: {cor}')\n",
        "\n",
        "# CI\n",
        "alpha = 0.05\n",
        "degrees_of_freedom = n-2\n",
        "lower_limit = -1.661\n",
        "upper_limit = 1.661\n",
        "\n",
        "print(f'CI = ({lower_limit}, {upper_limit})')\n",
        "\n",
        "z_c = cor/math.sqrt((1-cor**2)/(n-2))\n",
        "print(f'z = {z_c}')"
      ],
      "metadata": {
        "colab": {
          "base_uri": "https://localhost:8080/"
        },
        "outputId": "8c98465c-96a2-471f-86fc-79029691380c",
        "id": "OLdhFLt96NY4"
      },
      "execution_count": null,
      "outputs": [
        {
          "output_type": "stream",
          "name": "stdout",
          "text": [
            "Sample correlation coefficient: -0.17773624483250583\n",
            "CI = (-1.661, 1.661)\n",
            "z = -1.7879667746076198\n"
          ]
        }
      ]
    },
    {
      "cell_type": "markdown",
      "source": [
        "Variable - High"
      ],
      "metadata": {
        "id": "87Pk3x_L6Nm8"
      }
    },
    {
      "cell_type": "code",
      "source": [
        "# Correlation\n",
        "cor = np.corrcoef(sample['Close'], sample['High'])[0][1]\n",
        "n=100\n",
        "\n",
        "print(f'Sample correlation coefficient: {cor}')\n",
        "\n",
        "# CI\n",
        "alpha = 0.05\n",
        "degrees_of_freedom = n-2\n",
        "lower_limit = -1.661\n",
        "upper_limit = 1.661\n",
        "\n",
        "print(f'CI = [{lower_limit}, {upper_limit}]')\n",
        "\n",
        "z_c = cor/math.sqrt((1-cor**2)/(n-2))\n",
        "print(f'z = {z_c}')"
      ],
      "metadata": {
        "colab": {
          "base_uri": "https://localhost:8080/"
        },
        "outputId": "c28762fd-c5c5-43ff-c27c-2302fe5bc95a",
        "id": "u_rNHgcy6NnA"
      },
      "execution_count": null,
      "outputs": [
        {
          "output_type": "stream",
          "name": "stdout",
          "text": [
            "Sample correlation coefficient: 0.999993778667428\n",
            "CI = [-1.661, 1.661]\n",
            "z = 2806.4305843225975\n"
          ]
        }
      ]
    },
    {
      "cell_type": "markdown",
      "source": [
        "Variable - Volume"
      ],
      "metadata": {
        "id": "qX1KXnH46N2h"
      }
    },
    {
      "cell_type": "code",
      "source": [
        "# Correlation\n",
        "cor = np.corrcoef(sample['Close'], sample['Volume'])[0][1]\n",
        "n=100\n",
        "\n",
        "print(f'Sample correlation coefficient: {cor}')\n",
        "\n",
        "# CI\n",
        "alpha = 0.05\n",
        "degrees_of_freedom = n-2\n",
        "lower_limit = -1.661\n",
        "upper_limit = 1.661\n",
        "\n",
        "print(f'CI = [{lower_limit}, {upper_limit}]')\n",
        "\n",
        "z_c = cor/math.sqrt((1-cor**2)/(n-2))\n",
        "print(f'z = {z_c}')"
      ],
      "metadata": {
        "colab": {
          "base_uri": "https://localhost:8080/"
        },
        "outputId": "47e07f1d-f418-41a8-ad4c-326be56c0b89",
        "id": "sn1RmJZ16N2n"
      },
      "execution_count": null,
      "outputs": [
        {
          "output_type": "stream",
          "name": "stdout",
          "text": [
            "Sample correlation coefficient: -0.1357136491468841\n",
            "CI = [-1.661, 1.661]\n",
            "z = -1.35604254727644\n"
          ]
        }
      ]
    },
    {
      "cell_type": "markdown",
      "source": [
        "Linear Regression"
      ],
      "metadata": {
        "id": "FjzIaKQT7ylL"
      }
    },
    {
      "cell_type": "code",
      "source": [
        "from sklearn.linear_model import LinearRegression"
      ],
      "metadata": {
        "id": "rn3GtH0Q8rg1"
      },
      "execution_count": null,
      "outputs": []
    },
    {
      "cell_type": "markdown",
      "source": [
        "Variable - Open"
      ],
      "metadata": {
        "id": "xGkLnlxq_RVA"
      }
    },
    {
      "cell_type": "code",
      "source": [
        "lm = LinearRegression()\n",
        "x = np.array(sample['Open'])\n",
        "y = np.array(sample['Close'])\n",
        "lm.fit(x.reshape(-1,1), y)\n",
        "\n",
        "slope = lm.coef_[0]\n",
        "intercept = lm.intercept_\n",
        "\n",
        "print('Linear Regression Equation')\n",
        "print(f'y = {slope}*x + {intercept}')"
      ],
      "metadata": {
        "colab": {
          "base_uri": "https://localhost:8080/"
        },
        "id": "E87NrsxT8r5b",
        "outputId": "d74baf5b-ea35-48e0-e03a-5af885f5f887"
      },
      "execution_count": null,
      "outputs": [
        {
          "output_type": "stream",
          "name": "stdout",
          "text": [
            "Linear Regression Equation\n",
            "y = 0.9989932755243812*x + 0.16530698250834064\n"
          ]
        }
      ]
    },
    {
      "cell_type": "code",
      "source": [
        "plt.title('Regression Line')\n",
        "plt.xlabel('Open')\n",
        "plt.ylabel('Close')\n",
        "plt.plot(x, slope*x+intercept)\n",
        "plt.show()"
      ],
      "metadata": {
        "colab": {
          "base_uri": "https://localhost:8080/",
          "height": 472
        },
        "id": "F6zLP2069GSW",
        "outputId": "a7319f2b-4793-4017-ac02-483e4f819e3d"
      },
      "execution_count": null,
      "outputs": [
        {
          "output_type": "display_data",
          "data": {
            "text/plain": [
              "<Figure size 640x480 with 1 Axes>"
            ],
            "image/png": "[encoded data removed]"
          },
          "metadata": {}
        }
      ]
    },
    {
      "cell_type": "code",
      "source": [
        "plt.title('Residual Plot')\n",
        "plt.xlabel('Predictions')\n",
        "plt.ylabel('Residuals')\n",
        "plt.scatter(slope*x+intercept, y-(slope*x+intercept))\n",
        "plt.axhline(y=0, color='red', linestyle='--')\n",
        "plt.show()"
      ],
      "metadata": {
        "colab": {
          "base_uri": "https://localhost:8080/",
          "height": 472
        },
        "id": "9n47dh2z9Thz",
        "outputId": "dba8ed4a-d53b-4a16-ce95-3daf9eac8dbd"
      },
      "execution_count": null,
      "outputs": [
        {
          "output_type": "display_data",
          "data": {
            "text/plain": [
              "<Figure size 640x480 with 1 Axes>"
            ],
            "image/png": "[encoded data removed]"
          },
          "metadata": {}
        }
      ]
    },
    {
      "cell_type": "markdown",
      "source": [
        "Variable - High"
      ],
      "metadata": {
        "id": "Xvg2h3g6_wKj"
      }
    },
    {
      "cell_type": "code",
      "source": [
        "lm = LinearRegression()\n",
        "x = np.array(sample['High'])\n",
        "y = np.array(sample['Close'])\n",
        "lm.fit(x.reshape(-1,1), y)\n",
        "\n",
        "slope = lm.coef_[0]\n",
        "intercept = lm.intercept_\n",
        "\n",
        "print('Linear Regression Equation')\n",
        "print(f'y = {slope}*x + {intercept}')"
      ],
      "metadata": {
        "colab": {
          "base_uri": "https://localhost:8080/"
        },
        "outputId": "7b5163c2-c2f2-40be-ba5d-af0d387cab42",
        "id": "TiObsdqh_wK9"
      },
      "execution_count": null,
      "outputs": [
        {
          "output_type": "stream",
          "name": "stdout",
          "text": [
            "Linear Regression Equation\n",
            "y = 0.9934888973370033*x + -0.09959963426717877\n"
          ]
        }
      ]
    },
    {
      "cell_type": "code",
      "source": [
        "plt.title('Regression Line')\n",
        "plt.xlabel('High')\n",
        "plt.ylabel('Close')\n",
        "plt.plot(x, slope*x+intercept)\n",
        "plt.show()"
      ],
      "metadata": {
        "colab": {
          "base_uri": "https://localhost:8080/",
          "height": 472
        },
        "outputId": "3213537b-1da0-43b1-934e-7ebdf42a7175",
        "id": "0ih_EEUR_wLA"
      },
      "execution_count": null,
      "outputs": [
        {
          "output_type": "display_data",
          "data": {
            "text/plain": [
              "<Figure size 640x480 with 1 Axes>"
            ],
            "image/png": "[encoded data removed]"
          },
          "metadata": {}
        }
      ]
    },
    {
      "cell_type": "code",
      "source": [
        "plt.title('Residual Plot')\n",
        "plt.xlabel('Predictions')\n",
        "plt.ylabel('Residuals')\n",
        "plt.scatter(slope*x+intercept, y-(slope*x+intercept))\n",
        "plt.axhline(y=0, color='red', linestyle='--')\n",
        "plt.show()"
      ],
      "metadata": {
        "colab": {
          "base_uri": "https://localhost:8080/",
          "height": 472
        },
        "outputId": "8df5d5a4-a3b5-412e-9f35-376adef556c6",
        "id": "h8hsq2eJ_wLC"
      },
      "execution_count": null,
      "outputs": [
        {
          "output_type": "display_data",
          "data": {
            "text/plain": [
              "<Figure size 640x480 with 1 Axes>"
            ],
            "image/png": "[encoded data removed]"
          },
          "metadata": {}
        }
      ]
    },
    {
      "cell_type": "markdown",
      "source": [
        "Variable - Low"
      ],
      "metadata": {
        "id": "7gxIkhyW_wez"
      }
    },
    {
      "cell_type": "code",
      "source": [
        "lm = LinearRegression()\n",
        "x = np.array(sample['Low'])\n",
        "y = np.array(sample['Close'])\n",
        "lm.fit(x.reshape(-1,1), y)\n",
        "\n",
        "slope = lm.coef_[0]\n",
        "intercept = lm.intercept_\n",
        "\n",
        "print('Linear Regression Equation')\n",
        "print(f'y = {slope}*x + {intercept}')"
      ],
      "metadata": {
        "colab": {
          "base_uri": "https://localhost:8080/"
        },
        "outputId": "8860274c-0df8-443b-8dd6-657d97f61359",
        "id": "2cimeS8v_we1"
      },
      "execution_count": null,
      "outputs": [
        {
          "output_type": "stream",
          "name": "stdout",
          "text": [
            "Linear Regression Equation\n",
            "y = 1.0133284335026373*x + -0.11431718921286915\n"
          ]
        }
      ]
    },
    {
      "cell_type": "code",
      "source": [
        "plt.title('Regression Line')\n",
        "plt.xlabel('Low')\n",
        "plt.ylabel('Close')\n",
        "plt.plot(x, slope*x+intercept)\n",
        "plt.show()"
      ],
      "metadata": {
        "colab": {
          "base_uri": "https://localhost:8080/",
          "height": 472
        },
        "outputId": "6d4981c1-3b9a-4cb6-90f9-cbed188f028f",
        "id": "Hbi1y0Wi_we2"
      },
      "execution_count": null,
      "outputs": [
        {
          "output_type": "display_data",
          "data": {
            "text/plain": [
              "<Figure size 640x480 with 1 Axes>"
            ],
            "image/png": "[encoded data removed]"
          },
          "metadata": {}
        }
      ]
    },
    {
      "cell_type": "code",
      "source": [
        "plt.title('Residual Plot')\n",
        "plt.xlabel('Predictions')\n",
        "plt.ylabel('Residuals')\n",
        "plt.scatter(slope*x+intercept, y-(slope*x+intercept))\n",
        "plt.axhline(y=0, color='red', linestyle='--')\n",
        "plt.show()"
      ],
      "metadata": {
        "colab": {
          "base_uri": "https://localhost:8080/",
          "height": 472
        },
        "outputId": "609c4410-72ea-4a39-e5e8-5ce371639a98",
        "id": "Q2GKE68c_we4"
      },
      "execution_count": null,
      "outputs": [
        {
          "output_type": "display_data",
          "data": {
            "text/plain": [
              "<Figure size 640x480 with 1 Axes>"
            ],
            "image/png": "[encoded data removed]"
          },
          "metadata": {}
        }
      ]
    },
    {
      "cell_type": "markdown",
      "source": [
        "Variable - Volume"
      ],
      "metadata": {
        "id": "NZF6_nc1_wvo"
      }
    },
    {
      "cell_type": "code",
      "source": [
        "lm = LinearRegression()\n",
        "x = np.array(sample['Volume'])\n",
        "y = np.array(sample['Close'])\n",
        "lm.fit(x.reshape(-1,1), y)\n",
        "\n",
        "slope = lm.coef_[0]\n",
        "intercept = lm.intercept_\n",
        "\n",
        "print('Linear Regression Equation')\n",
        "print(f'y = {slope}*x + {intercept}')"
      ],
      "metadata": {
        "colab": {
          "base_uri": "https://localhost:8080/"
        },
        "outputId": "a3d2f2ca-d610-42e9-dbbd-47597e558da6",
        "id": "Q4CXaan-_wvp"
      },
      "execution_count": null,
      "outputs": [
        {
          "output_type": "stream",
          "name": "stdout",
          "text": [
            "Linear Regression Equation\n",
            "y = -4.854398451838654e-07*x + 81.42652222999195\n"
          ]
        }
      ]
    },
    {
      "cell_type": "code",
      "source": [
        "plt.title('Regression Line')\n",
        "plt.xlabel('Volume')\n",
        "plt.ylabel('Close')\n",
        "plt.plot(x, slope*x+intercept)\n",
        "plt.show()"
      ],
      "metadata": {
        "colab": {
          "base_uri": "https://localhost:8080/",
          "height": 472
        },
        "outputId": "df9aeebc-13fc-4023-dcb3-9dfd252d8610",
        "id": "Yw5bqtbc_wvr"
      },
      "execution_count": null,
      "outputs": [
        {
          "output_type": "display_data",
          "data": {
            "text/plain": [
              "<Figure size 640x480 with 1 Axes>"
            ],
            "image/png": "[encoded data removed]"
          },
          "metadata": {}
        }
      ]
    },
    {
      "cell_type": "code",
      "source": [
        "plt.title('Residual Plot')\n",
        "plt.xlabel('Predictions')\n",
        "plt.ylabel('Residuals')\n",
        "plt.scatter(slope*x+intercept, y-(slope*x+intercept))\n",
        "plt.axhline(y=0, color='red', linestyle='--')\n",
        "plt.show()"
      ],
      "metadata": {
        "colab": {
          "base_uri": "https://localhost:8080/",
          "height": 472
        },
        "outputId": "a5af377e-35c4-4d38-f3eb-19cbc6d39e78",
        "id": "Dd3yam_L_wvs"
      },
      "execution_count": null,
      "outputs": [
        {
          "output_type": "display_data",
          "data": {
            "text/plain": [
              "<Figure size 640x480 with 1 Axes>"
            ],
            "image/png": "[encoded data removed]"
          },
          "metadata": {}
        }
      ]
    },
    {
      "cell_type": "markdown",
      "source": [
        "Variable - Brand_Name"
      ],
      "metadata": {
        "id": "IHORMGxb_w_v"
      }
    },
    {
      "cell_type": "code",
      "source": [
        "lm = LinearRegression()\n",
        "x = np.array(sample['Brand_Name'])\n",
        "y = np.array(sample['Close'])\n",
        "lm.fit(x.reshape(-1,1), y)\n",
        "\n",
        "slope = lm.coef_[0]\n",
        "intercept = lm.intercept_\n",
        "\n",
        "print('Linear Regression Equation')\n",
        "print(f'y = {slope}*x + {intercept}')"
      ],
      "metadata": {
        "colab": {
          "base_uri": "https://localhost:8080/"
        },
        "outputId": "80f88019-c69e-4b34-d9a5-817e6e9be034",
        "id": "zLJXFIJW_w_w"
      },
      "execution_count": null,
      "outputs": [
        {
          "output_type": "stream",
          "name": "stdout",
          "text": [
            "Linear Regression Equation\n",
            "y = -1.6958847237407841*x + 120.39181461152373\n"
          ]
        }
      ]
    },
    {
      "cell_type": "code",
      "source": [
        "plt.title('Regression Line')\n",
        "plt.xlabel('Brand_Name')\n",
        "plt.ylabel('Close')\n",
        "plt.plot(x, slope*x+intercept)\n",
        "plt.show()"
      ],
      "metadata": {
        "colab": {
          "base_uri": "https://localhost:8080/",
          "height": 472
        },
        "outputId": "d119aa2c-8b9e-47dc-e7a6-4370abdb0eec",
        "id": "TCpXMWON_w_y"
      },
      "execution_count": null,
      "outputs": [
        {
          "output_type": "display_data",
          "data": {
            "text/plain": [
              "<Figure size 640x480 with 1 Axes>"
            ],
            "image/png": "[encoded data removed]"
          },
          "metadata": {}
        }
      ]
    },
    {
      "cell_type": "code",
      "source": [
        "plt.title('Residual Plot')\n",
        "plt.xlabel('Predictions')\n",
        "plt.ylabel('Residuals')\n",
        "plt.scatter(slope*x+intercept, y-(slope*x+intercept))\n",
        "plt.axhline(y=0, color='red', linestyle='--')\n",
        "plt.show()"
      ],
      "metadata": {
        "colab": {
          "base_uri": "https://localhost:8080/",
          "height": 472
        },
        "outputId": "a3de7238-8ff8-4232-a2e5-4b77d5cda82e",
        "id": "XQCFT9qt_w_0"
      },
      "execution_count": null,
      "outputs": [
        {
          "output_type": "display_data",
          "data": {
            "text/plain": [
              "<Figure size 640x480 with 1 Axes>"
            ],
            "image/png": "[encoded data removed]"
          },
          "metadata": {}
        }
      ]
    },
    {
      "cell_type": "markdown",
      "source": [
        "Variable - Ticker"
      ],
      "metadata": {
        "id": "GrRUj67C_xP6"
      }
    },
    {
      "cell_type": "code",
      "source": [
        "lm = LinearRegression()\n",
        "x = np.array(sample['Ticker'])\n",
        "y = np.array(sample['Close'])\n",
        "lm.fit(x.reshape(-1,1), y)\n",
        "\n",
        "slope = lm.coef_[0]\n",
        "intercept = lm.intercept_\n",
        "\n",
        "print('Linear Regression Equation')\n",
        "print(f'y = {slope}*x + {intercept}')"
      ],
      "metadata": {
        "colab": {
          "base_uri": "https://localhost:8080/"
        },
        "outputId": "cd21c852-9a44-4d84-dbd5-8fa7111c0717",
        "id": "695fqbLa_xP8"
      },
      "execution_count": null,
      "outputs": [
        {
          "output_type": "stream",
          "name": "stdout",
          "text": [
            "Linear Regression Equation\n",
            "y = -1.8441005722280117*x + 122.32583411365066\n"
          ]
        }
      ]
    },
    {
      "cell_type": "code",
      "source": [
        "plt.title('Regression Line')\n",
        "plt.xlabel('Ticker')\n",
        "plt.ylabel('Close')\n",
        "plt.plot(x, slope*x+intercept)\n",
        "plt.show()"
      ],
      "metadata": {
        "colab": {
          "base_uri": "https://localhost:8080/",
          "height": 472
        },
        "outputId": "78d46f6c-a791-47b3-c64f-902b78595096",
        "id": "YNVg6dyw_xP-"
      },
      "execution_count": null,
      "outputs": [
        {
          "output_type": "display_data",
          "data": {
            "text/plain": [
              "<Figure size 640x480 with 1 Axes>"
            ],
            "image/png": "[encoded data removed]"
          },
          "metadata": {}
        }
      ]
    },
    {
      "cell_type": "code",
      "source": [
        "plt.title('Residual Plot')\n",
        "plt.xlabel('Predictions')\n",
        "plt.ylabel('Residuals')\n",
        "plt.scatter(slope*x+intercept, y-(slope*x+intercept))\n",
        "plt.axhline(y=0, color='red', linestyle='--')\n",
        "plt.show()"
      ],
      "metadata": {
        "colab": {
          "base_uri": "https://localhost:8080/",
          "height": 472
        },
        "outputId": "8eb55a3b-843b-4db4-939d-eae8e4cd0dbf",
        "id": "OLC5ykTy_xP_"
      },
      "execution_count": null,
      "outputs": [
        {
          "output_type": "display_data",
          "data": {
            "text/plain": [
              "<Figure size 640x480 with 1 Axes>"
            ],
            "image/png": "[encoded data removed]"
          },
          "metadata": {}
        }
      ]
    },
    {
      "cell_type": "markdown",
      "source": [
        "Variable - Industry_Tag"
      ],
      "metadata": {
        "id": "D59dO8oZ_xgs"
      }
    },
    {
      "cell_type": "code",
      "source": [
        "lm = LinearRegression()\n",
        "x = np.array(sample['Industry_Tag'])\n",
        "y = np.array(sample['Close'])\n",
        "lm.fit(x.reshape(-1,1), y)\n",
        "\n",
        "slope = lm.coef_[0]\n",
        "intercept = lm.intercept_\n",
        "\n",
        "print('Linear Regression Equation')\n",
        "print(f'y = {slope}*x + {intercept}')"
      ],
      "metadata": {
        "colab": {
          "base_uri": "https://localhost:8080/"
        },
        "outputId": "e71b45d1-4731-4e91-893f-9e4625139c9c",
        "id": "p40BVXDw_xgu"
      },
      "execution_count": null,
      "outputs": [
        {
          "output_type": "stream",
          "name": "stdout",
          "text": [
            "Linear Regression Equation\n",
            "y = 1.5442074681977835*x + 55.17415154211548\n"
          ]
        }
      ]
    },
    {
      "cell_type": "code",
      "source": [
        "plt.title('Regression Line')\n",
        "plt.xlabel('Industry_Tag')\n",
        "plt.ylabel('Close')\n",
        "plt.plot(x, slope*x+intercept)\n",
        "plt.show()"
      ],
      "metadata": {
        "colab": {
          "base_uri": "https://localhost:8080/",
          "height": 472
        },
        "outputId": "5e46e386-997d-4668-9046-2bc27dcb737d",
        "id": "VsRvsB6D_xgv"
      },
      "execution_count": null,
      "outputs": [
        {
          "output_type": "display_data",
          "data": {
            "text/plain": [
              "<Figure size 640x480 with 1 Axes>"
            ],
            "image/png": "[encoded data removed]"
          },
          "metadata": {}
        }
      ]
    },
    {
      "cell_type": "code",
      "source": [
        "plt.title('Residual Plot')\n",
        "plt.xlabel('Predictions')\n",
        "plt.ylabel('Residuals')\n",
        "plt.scatter(slope*x+intercept, y-(slope*x+intercept))\n",
        "plt.axhline(y=0, color='red', linestyle='--')\n",
        "plt.show()"
      ],
      "metadata": {
        "colab": {
          "base_uri": "https://localhost:8080/",
          "height": 472
        },
        "outputId": "b877a0d8-ec5d-4ba0-c80b-c3f090716de9",
        "id": "Qzddd19K_xgw"
      },
      "execution_count": null,
      "outputs": [
        {
          "output_type": "display_data",
          "data": {
            "text/plain": [
              "<Figure size 640x480 with 1 Axes>"
            ],
            "image/png": "[encoded data removed]"
          },
          "metadata": {}
        }
      ]
    },
    {
      "cell_type": "markdown",
      "source": [
        "Variable - Country"
      ],
      "metadata": {
        "id": "16RMsY8T_xyO"
      }
    },
    {
      "cell_type": "code",
      "source": [
        "lm = LinearRegression()\n",
        "x = np.array(sample['Country'])\n",
        "y = np.array(sample['Close'])\n",
        "lm.fit(x.reshape(-1,1), y)\n",
        "\n",
        "slope = lm.coef_[0]\n",
        "intercept = lm.intercept_\n",
        "\n",
        "print('Linear Regression Equation')\n",
        "print(f'y = {slope}*x + {intercept}')"
      ],
      "metadata": {
        "colab": {
          "base_uri": "https://localhost:8080/"
        },
        "outputId": "ea304e45-d505-4a2b-9e19-0d045f07945e",
        "id": "AcEk76ki_xyR"
      },
      "execution_count": null,
      "outputs": [
        {
          "output_type": "stream",
          "name": "stdout",
          "text": [
            "Linear Regression Equation\n",
            "y = 11.620890219410207*x + 11.850373506027744\n"
          ]
        }
      ]
    },
    {
      "cell_type": "code",
      "source": [
        "plt.title('Regression Line')\n",
        "plt.xlabel('Country')\n",
        "plt.ylabel('Close')\n",
        "plt.plot(x, slope*x+intercept)\n",
        "plt.show()"
      ],
      "metadata": {
        "colab": {
          "base_uri": "https://localhost:8080/",
          "height": 472
        },
        "outputId": "8a718353-de89-4678-e13a-9b8050e30150",
        "id": "WowGGfxT_xyU"
      },
      "execution_count": null,
      "outputs": [
        {
          "output_type": "display_data",
          "data": {
            "text/plain": [
              "<Figure size 640x480 with 1 Axes>"
            ],
            "image/png": "[encoded data removed]"
          },
          "metadata": {}
        }
      ]
    },
    {
      "cell_type": "code",
      "source": [
        "plt.title('Residual Plot')\n",
        "plt.xlabel('Predictions')\n",
        "plt.ylabel('Residuals')\n",
        "plt.scatter(slope*x+intercept, y-(slope*x+intercept))\n",
        "plt.axhline(y=0, color='red', linestyle='--')\n",
        "plt.show()"
      ],
      "metadata": {
        "colab": {
          "base_uri": "https://localhost:8080/",
          "height": 472
        },
        "outputId": "d6e0747a-a0c6-4c9f-a2db-3f6f38013efa",
        "id": "ownuvEmV_xyX"
      },
      "execution_count": null,
      "outputs": [
        {
          "output_type": "display_data",
          "data": {
            "text/plain": [
              "<Figure size 640x480 with 1 Axes>"
            ],
            "image/png": "[encoded data removed]"
          },
          "metadata": {}
        }
      ]
    },
    {
      "cell_type": "markdown",
      "source": [
        "Multi-Regression"
      ],
      "metadata": {
        "id": "8Glj0lNPDEu6"
      }
    },
    {
      "cell_type": "code",
      "source": [
        "from sklearn.metrics import r2_score\n",
        "n = sample.shape[0]\n",
        "p = 3"
      ],
      "metadata": {
        "id": "vxaeuaM-DEQl"
      },
      "execution_count": null,
      "outputs": []
    },
    {
      "cell_type": "code",
      "source": [
        "# Model 1\n",
        "x = np.array(sample[['Open', 'High', 'Low']])\n",
        "y = np.array(sample['Close'])\n",
        "\n",
        "regressor = LinearRegression()\n",
        "regressor.fit(x, y)\n",
        "\n",
        "y_pred = regressor.predict(x)\n",
        "\n",
        "r2 = r2_score(y, y_pred)\n",
        "adj_r2 = 1-(1-r2)*(n-1)/(n-p-1)\n",
        "\n",
        "print(f'Regression Equation: y={regressor.coef_[0]}*a + {regressor.coef_[1]}*b + {regressor.coef_[2]}*c + {regressor.intercept_}')\n",
        "print(f'Adjusted R2: {adj_r2}')"
      ],
      "metadata": {
        "colab": {
          "base_uri": "https://localhost:8080/"
        },
        "id": "thBFjNNsDdg2",
        "outputId": "cc5b8aca-5f0b-44b9-d920-399b4236b7c7"
      },
      "execution_count": null,
      "outputs": [
        {
          "output_type": "stream",
          "name": "stdout",
          "text": [
            "Regression Equation: y=-0.017034891973385768*a + 0.8109676270075653*b + 0.2034552694554999*c + -0.10776348739618413\n",
            "Adjusted R2: 0.9999896641602068\n"
          ]
        }
      ]
    },
    {
      "cell_type": "code",
      "source": [
        "# Model 2\n",
        "x = np.array(sample[['Volume', 'Dividends', 'Ticker']])\n",
        "y = np.array(sample['Close'])\n",
        "\n",
        "regressor = LinearRegression()\n",
        "regressor.fit(x, y)\n",
        "\n",
        "y_pred = regressor.predict(x)\n",
        "\n",
        "r2 = r2_score(y, y_pred)\n",
        "adj_r2 = 1-(1-r2)*(n-1)/(n-p-1)\n",
        "\n",
        "print(f'Regression Equation: y={regressor.coef_[0]}*a + {regressor.coef_[1]}*b + {regressor.coef_[2]}*c + {regressor.intercept_}')\n",
        "print(f'Adjusted R2: {adj_r2}')"
      ],
      "metadata": {
        "colab": {
          "base_uri": "https://localhost:8080/"
        },
        "id": "UiLVNb4JD2bC",
        "outputId": "d0e076c2-d964-4007-bdf9-93b9a0cd124d"
      },
      "execution_count": null,
      "outputs": [
        {
          "output_type": "stream",
          "name": "stdout",
          "text": [
            "Regression Equation: y=-5.543879226856478e-07*a + 0.0*b + -1.983132250495282*c + 137.53608963222712\n",
            "Adjusted R2: 0.03130605889215066\n"
          ]
        }
      ]
    },
    {
      "cell_type": "code",
      "source": [
        "# Model 3\n",
        "x = np.array(sample[['Brand_Name', 'Industry_Tag', 'Country']])\n",
        "y = np.array(sample['Close'])\n",
        "\n",
        "regressor = LinearRegression()\n",
        "regressor.fit(x, y)\n",
        "\n",
        "y_pred = regressor.predict(x)\n",
        "\n",
        "r2 = r2_score(y, y_pred)\n",
        "adj_r2 = 1-(1-r2)*(n-1)/(n-p-1)\n",
        "\n",
        "print(f'Regression Equation: y={regressor.coef_[0]}*a + {regressor.coef_[1]}*b + {regressor.coef_[2]}*c + {regressor.intercept_}')\n",
        "print(f'Adjusted R2: {adj_r2}')"
      ],
      "metadata": {
        "colab": {
          "base_uri": "https://localhost:8080/"
        },
        "id": "Fr_W-V5_D4a7",
        "outputId": "7ffff8fa-bc88-45f6-b71e-a2780a891a27"
      },
      "execution_count": null,
      "outputs": [
        {
          "output_type": "stream",
          "name": "stdout",
          "text": [
            "Regression Equation: y=-1.5736730847932796*a + 0.795910565717795*b + 8.580988896868176*c + 64.44867931863173\n",
            "Adjusted R2: 0.01245505839069283\n"
          ]
        }
      ]
    }
  ]
}